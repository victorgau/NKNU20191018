{
 "cells": [
  {
   "cell_type": "markdown",
   "metadata": {},
   "source": [
    "## 抓取新聞列表"
   ]
  },
  {
   "cell_type": "markdown",
   "metadata": {},
   "source": [
    "抓取鉅亨財經新聞列表！\n",
    "\n",
    "https://news.cnyes.com/news/cat/tw_stock_news"
   ]
  },
  {
   "cell_type": "code",
   "execution_count": 1,
   "metadata": {},
   "outputs": [],
   "source": [
    "import requests\n",
    "from bs4 import BeautifulSoup"
   ]
  },
  {
   "cell_type": "code",
   "execution_count": 2,
   "metadata": {},
   "outputs": [
    {
     "name": "stdout",
     "output_type": "stream",
     "text": [
      "沒讀卡機也沒關係 新光銀首創解決身分驗證服務\n",
      "傍晚全台ATM大當機 財金公司：工程師誤觸線路\n",
      "〈台積電法說〉需求旺資本支出大增4成 ADR開盤小漲2%再創高\n",
      "〈台積電法說〉後市展望、資本支出、先進製程  一文看懂法說全部重點\n",
      "郭台銘70歲生日許願「國富民強」 秀與張忠謀同框照\n",
      "〈波音航空市場預測〉全球航空雙雄看好未來20年新機需求 豐達科、榮剛受惠\n",
      "〈鴻海強化光學布局〉康達智今年獲利優去年 3動能推升營運看俏\n",
      "〈台積電法說〉化妝師孫又文年底將退休 退休後要做三件事\n",
      "花旗銀系統出包 客戶帳戶餘額歸零 金管會開罰500萬元\n",
      "〈鴻海強化光學布局〉鴻騰斥17億元收購康達智特別股 強化手機、車用鏡頭布局\n",
      "搶境外資金回流商機 銀行找稅務專家爭取高資產客戶\n",
      "〈藥華藥展望〉國際佈局趨於成熟 明年再取5張藥證\n",
      "〈台積電法說〉5G發展優預期 上調明年手機滲透率達15%\n",
      "〈台積電法說〉資本支出大幅調升 家登、京鼎等設備廠明年營運衝鋒\n",
      "〈機器人理財〉下一步擴至「全委投資」 實現AI理財自動化\n",
      "〈台積電法說〉Q4營收估增逾8%將再寫新猷 毛利率挑戰50%\n",
      "IC Insights：10nm以下先進製程快速成長 估2023年佔比將升至25%\n",
      "遠傳啟動5G招募計畫 網羅百名資通訊人才\n",
      "茂迪籲政府強化產學合作 寄望下世代太陽能技術\n",
      "友達1個多月買回4萬張庫藏股 執行率32.4%\n",
      "〈潤寅詐貸案開罰〉金管會提四大措施 強化應收帳款授信\n",
      "定穎標售桃園廠明日盤中開標 將暫停交易\n",
      "〈潤寅詐貸案開罰〉一口氣開鍘9家銀行 祭出800萬元罰單\n",
      "千如斥6億元擴建智慧化廠房 台商回台投資額達6158億元\n",
      "美中貿易戰重挫亞洲出口動能 台前9月逆勢年增2.8%笑傲四小龍\n",
      "福懋擬斥12億元取得Schoeller Textil半數股權 強化高端布料產品線\n",
      "元大高股息ETF配息公布前夕 股價飆新高 殖利率仍保6%\n",
      "欣耀非酒精性脂肪肝炎新藥獲美國專利 同步商談授權\n",
      "〈台積電法說〉上調資本支出最高上看150億美元創高 明年也可望維持高檔\n",
      "〈機器人理財〉卡在「半自動化」 兩年資產規模僅6.75億元\n"
     ]
    }
   ],
   "source": [
    "url = \"https://news.cnyes.com/news/cat/tw_stock_news\"\n",
    "r = requests.get(url)\n",
    "soup = BeautifulSoup(r.text, 'lxml')\n",
    "news_list = soup.select('div._2bFl.theme-list div a')\n",
    "for news in news_list:\n",
    "    print(news.get('title'))"
   ]
  }
 ],
 "metadata": {
  "kernelspec": {
   "display_name": "Python 3",
   "language": "python",
   "name": "python3"
  },
  "language_info": {
   "codemirror_mode": {
    "name": "ipython",
    "version": 3
   },
   "file_extension": ".py",
   "mimetype": "text/x-python",
   "name": "python",
   "nbconvert_exporter": "python",
   "pygments_lexer": "ipython3",
   "version": "3.7.1"
  }
 },
 "nbformat": 4,
 "nbformat_minor": 2
}
